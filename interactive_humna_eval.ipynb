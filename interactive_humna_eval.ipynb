{
 "cells": [
  {
   "cell_type": "markdown",
   "id": "acbe770c",
   "metadata": {},
   "source": [
    "*package_leaflets_dataset_final.ipynb* from EZ --- creating json files in bioleaflets/dataset/test|train|valid   \n",
    "\n",
    "\n"
   ]
  },
  {
   "cell_type": "markdown",
   "id": "1cec67f4",
   "metadata": {},
   "source": [
    "## JSON FILE\n",
    "\n",
    "            \n",
    "\n",
    "    leaflet_content = {      \n",
    "            'ID': leaflet.id,    \n",
    "            'URL': leaflet.url,    \n",
    "            'Product_Name': leaflet.product_name,    \n",
    "            'Full_Content': leaflet.content,    \n",
    "\n",
    "            'Section_1': {\n",
    "                'Title': leaflet.section1.title,\n",
    "                'Section_Content': leaflet.section1.section_content,\n",
    "                'Entity_Recognition': leaflet.section1.entity_recognition\n",
    "            },\n",
    "\n",
    "            'Section_2': {\n",
    "                'Title': leaflet.section2.title,\n",
    "                'Section_Content': leaflet.section2.section_content,\n",
    "                'Entity_Recognition': leaflet.section2.entity_recognition\n",
    "            },\n",
    "\n",
    "            'Section_3': {\n",
    "                'Title': leaflet.section3.title,\n",
    "                'Section_Content': leaflet.section3.section_content,\n",
    "                'Entity_Recognition': leaflet.section3.entity_recognition\n",
    "            },\n",
    "\n",
    "            'Section_4': {\n",
    "                'Title': leaflet.section4.title,\n",
    "                'Section_Content': leaflet.section4.section_content,\n",
    "                'Entity_Recognition': leaflet.section4.entity_recognition\n",
    "            },\n",
    "\n",
    "            'Section_5': {\n",
    "                'Title': leaflet.section5.title,\n",
    "                'Section_Content': leaflet.section5.section_content,\n",
    "                'Entity_Recognition': leaflet.section5.entity_recognition\n",
    "            },\n",
    "\n",
    "            'Section_6': {\n",
    "                'Title': leaflet.section6.title,\n",
    "                'Section_Content': leaflet.section6.section_content,\n",
    "                'Entity_Recognition': leaflet.section6.entity_recognition\n",
    "            }\n",
    "        }\n"
   ]
  },
  {
   "cell_type": "code",
   "execution_count": 1,
   "id": "c862079d",
   "metadata": {},
   "outputs": [],
   "source": [
    "import json\n",
    "import os\n",
    "import numpy as np"
   ]
  },
  {
   "cell_type": "code",
   "execution_count": 2,
   "id": "7e3bbdd8",
   "metadata": {},
   "outputs": [],
   "source": [
    "from __future__ import print_function\n",
    "from ipywidgets import interact, interactive, fixed, interact_manual\n",
    "import ipywidgets as widgets"
   ]
  },
  {
   "cell_type": "markdown",
   "id": "5ed1951f",
   "metadata": {},
   "source": [
    "---------------------------------------------"
   ]
  },
  {
   "cell_type": "markdown",
   "id": "7ff543b9",
   "metadata": {},
   "source": [
    "### Read <test> T5_generations and Target Text"
   ]
  },
  {
   "cell_type": "code",
   "execution_count": 3,
   "id": "273ed025",
   "metadata": {},
   "outputs": [],
   "source": [
    "with open('human_evaluation_dataset/dataset_section1.json', 'r') as fp:\n",
    "    dataset_section1 = json.load(fp)"
   ]
  },
  {
   "cell_type": "code",
   "execution_count": null,
   "id": "e012049c",
   "metadata": {},
   "outputs": [],
   "source": []
  },
  {
   "cell_type": "code",
   "execution_count": 4,
   "id": "d47dcf3f",
   "metadata": {},
   "outputs": [],
   "source": [
    "# remove tags from entities\n",
    "\n",
    "for id_index in dataset_section1:\n",
    "    current_entities = dataset_section1[id_index]['input'].split()\n",
    "\n",
    "    filtered_entities = []\n",
    "\n",
    "    for entity in current_entities[2:]:\n",
    "        if entity[0].isalpha() and entity[-1].isalpha():\n",
    "            filtered_entities.append(entity)\n",
    "\n",
    "    new_entities = \" | \".join(filtered_entities)\n",
    "\n",
    "    dataset_section1[id_index]['input'] = new_entities"
   ]
  },
  {
   "cell_type": "code",
   "execution_count": 5,
   "id": "002c4ed0",
   "metadata": {},
   "outputs": [
    {
     "data": {
      "text/plain": [
       "\"gefitinib mylan contains the active substance gefitinib which blocks a protein called ' epidermal growth factor receptor ' ( egfr ). this protein is involved in the growth and spread of cancer cells . gefitinib mylan is used to treat adults with non - small cell lung cancer . this cancer is a disease in which malignant ( cancer ) cells form in the tissues of the lung .\""
      ]
     },
     "execution_count": 5,
     "metadata": {},
     "output_type": "execute_result"
    }
   ],
   "source": [
    "dataset_section1[\"222\"]['target']"
   ]
  },
  {
   "cell_type": "code",
   "execution_count": null,
   "id": "d7fbff46",
   "metadata": {},
   "outputs": [],
   "source": []
  },
  {
   "cell_type": "code",
   "execution_count": null,
   "id": "48ac94ac",
   "metadata": {},
   "outputs": [],
   "source": []
  },
  {
   "cell_type": "code",
   "execution_count": null,
   "id": "a6009ed8",
   "metadata": {},
   "outputs": [],
   "source": []
  },
  {
   "cell_type": "code",
   "execution_count": null,
   "id": "74d676c9",
   "metadata": {},
   "outputs": [],
   "source": []
  },
  {
   "cell_type": "code",
   "execution_count": null,
   "id": "4089e613",
   "metadata": {},
   "outputs": [],
   "source": []
  },
  {
   "cell_type": "code",
   "execution_count": null,
   "id": "5a1cf61b",
   "metadata": {},
   "outputs": [],
   "source": []
  },
  {
   "cell_type": "code",
   "execution_count": 8,
   "id": "53daf548",
   "metadata": {},
   "outputs": [],
   "source": [
    "# read generated sections\n",
    "PATH_TEST_T5_GENERATED = 'results/T5_plain/outputs_seed_1/test_generations_beam_1.txt'\n",
    "\n",
    "# read test dataset\n",
    "with open(PATH_TEST_T5_GENERATED) as f:\n",
    "    T5_test_generations = [line.strip() for line in f]"
   ]
  },
  {
   "cell_type": "code",
   "execution_count": 9,
   "id": "68e8da39",
   "metadata": {},
   "outputs": [],
   "source": [
    "# read test dataset\n",
    "# PATH_TEST_TARGET = 'scripts/data/plain/test.target'\n",
    "\n",
    "# read T5 reference sections\n",
    "# with open(PATH_TEST_TARGET) as f:\n",
    "#     gold_reference_T5 = [line.strip() for line in f]\n",
    "    \n",
    "    \n",
    "###### \n",
    "PATH_TEST_TARGET = 'results/test_truncated.target'\n",
    "\n",
    "# read T5 reference sections\n",
    "with open(PATH_TEST_TARGET) as f:\n",
    "    gold_reference_T5 = [line.strip() for line in f]"
   ]
  },
  {
   "cell_type": "code",
   "execution_count": 10,
   "id": "d8085283",
   "metadata": {},
   "outputs": [],
   "source": [
    "# read test dataset\n",
    "# PATH_TEST_SOURCE = 'scripts/data/plain/test.source'\n",
    "\n",
    "# read T5 reference sections\n",
    "# with open(PATH_TEST_SOURCE) as f:\n",
    "#     T5_test_input = [line.strip() for line in f]\n",
    "\n",
    "\n",
    "PATH_TEST_SOURCE = 'results/test_truncated.source'\n",
    "\n",
    "with open(PATH_TEST_SOURCE) as f:\n",
    "    T5_test_input = [line.strip() for line in f]"
   ]
  },
  {
   "cell_type": "code",
   "execution_count": 11,
   "id": "414b4806",
   "metadata": {},
   "outputs": [],
   "source": [
    "assert len(T5_test_generations) == len(gold_reference_T5)\n",
    "assert len(T5_test_generations) == len(T5_test_input)"
   ]
  },
  {
   "cell_type": "code",
   "execution_count": 12,
   "id": "6f3acce5",
   "metadata": {},
   "outputs": [
    {
     "data": {
      "text/plain": [
       "742"
      ]
     },
     "execution_count": 12,
     "metadata": {},
     "output_type": "execute_result"
    }
   ],
   "source": [
    "len(T5_test_generations)"
   ]
  },
  {
   "cell_type": "markdown",
   "id": "6b3bb334",
   "metadata": {},
   "source": [
    "#### TO-DO - make sure mapping is correct - it should be - but check\n",
    "\n",
    "#### TO-DO - cut everthything to have length on similar scale - 512 tokens"
   ]
  },
  {
   "cell_type": "markdown",
   "id": "cfc930c6",
   "metadata": {},
   "source": [
    "-------------------------"
   ]
  },
  {
   "cell_type": "markdown",
   "id": "248bd27f",
   "metadata": {},
   "source": [
    "## Building MVP"
   ]
  },
  {
   "cell_type": "code",
   "execution_count": null,
   "id": "92c1cc61",
   "metadata": {},
   "outputs": [],
   "source": []
  },
  {
   "cell_type": "code",
   "execution_count": 13,
   "id": "2983cc74",
   "metadata": {},
   "outputs": [],
   "source": [
    "generations = T5_test_generations[:10]\n",
    "targets = gold_reference_T5[:10]\n",
    "inputs = T5_test_input[:10]"
   ]
  },
  {
   "cell_type": "code",
   "execution_count": 14,
   "id": "b48e6589",
   "metadata": {},
   "outputs": [],
   "source": [
    "# generations with weights (default 100) - probability of being selected for evaluation\n",
    "\n",
    "generations = {str(index):generations[index] for index in range(len(generations))}\n",
    "\n",
    "targets = {str(index):targets[index] for index in range(len(targets))}\n",
    "\n",
    "inputs = {str(index):inputs[index] for index in range(len(inputs))}"
   ]
  },
  {
   "cell_type": "code",
   "execution_count": 15,
   "id": "24a2f1ab",
   "metadata": {},
   "outputs": [],
   "source": [
    "generations_weighted = {str(index):1/len(generations) for index in range(len(generations))}"
   ]
  },
  {
   "cell_type": "code",
   "execution_count": null,
   "id": "e7d988e1",
   "metadata": {},
   "outputs": [],
   "source": []
  },
  {
   "cell_type": "markdown",
   "id": "fda5427b",
   "metadata": {},
   "source": [
    "### To-Do: Evaluate each generation just once! "
   ]
  },
  {
   "cell_type": "code",
   "execution_count": null,
   "id": "94226af5",
   "metadata": {},
   "outputs": [],
   "source": []
  },
  {
   "cell_type": "code",
   "execution_count": null,
   "id": "c350dedf",
   "metadata": {},
   "outputs": [],
   "source": []
  },
  {
   "cell_type": "code",
   "execution_count": 16,
   "id": "1c4e2564",
   "metadata": {},
   "outputs": [],
   "source": [
    "# save results here for faithfulness\n",
    "# to what extend the generated text faithful to target output\n",
    "# results_faithfulness = {key:list([]) for key in generations}\n",
    "\n",
    "results_faithfulness = {str(index):list() for index in range(len(generations))}"
   ]
  },
  {
   "cell_type": "code",
   "execution_count": 17,
   "id": "f942bca4",
   "metadata": {},
   "outputs": [
    {
     "data": {
      "text/plain": [
       "{'0': [],\n",
       " '1': [],\n",
       " '2': [],\n",
       " '3': [],\n",
       " '4': [],\n",
       " '5': [],\n",
       " '6': [],\n",
       " '7': [],\n",
       " '8': [],\n",
       " '9': []}"
      ]
     },
     "execution_count": 17,
     "metadata": {},
     "output_type": "execute_result"
    }
   ],
   "source": [
    "results_faithfulness"
   ]
  },
  {
   "cell_type": "code",
   "execution_count": null,
   "id": "e89cfe3c",
   "metadata": {},
   "outputs": [],
   "source": []
  },
  {
   "cell_type": "code",
   "execution_count": 18,
   "id": "0a5cea8a",
   "metadata": {},
   "outputs": [
    {
     "data": {
      "text/plain": [
       "['0', '1', '2', '3', '4', '5', '6', '7', '8', '9']"
      ]
     },
     "execution_count": 18,
     "metadata": {},
     "output_type": "execute_result"
    }
   ],
   "source": [
    "list(generations_weighted.keys())"
   ]
  },
  {
   "cell_type": "code",
   "execution_count": 19,
   "id": "e05c7b20",
   "metadata": {},
   "outputs": [
    {
     "data": {
      "text/plain": [
       "[0.1, 0.1, 0.1, 0.1, 0.1, 0.1, 0.1, 0.1, 0.1, 0.1]"
      ]
     },
     "execution_count": 19,
     "metadata": {},
     "output_type": "execute_result"
    }
   ],
   "source": [
    "list(generations_weighted.values())"
   ]
  },
  {
   "cell_type": "markdown",
   "id": "29d2306f",
   "metadata": {},
   "source": [
    "Making Probabilities work"
   ]
  },
  {
   "cell_type": "code",
   "execution_count": 16,
   "id": "eb530e90",
   "metadata": {},
   "outputs": [
    {
     "data": {
      "text/plain": [
       "0.05"
      ]
     },
     "execution_count": 16,
     "metadata": {},
     "output_type": "execute_result"
    }
   ],
   "source": [
    "0.1 / 2"
   ]
  },
  {
   "cell_type": "code",
   "execution_count": 17,
   "id": "e6d1c3ba",
   "metadata": {},
   "outputs": [
    {
     "data": {
      "text/plain": [
       "0.9999999999999999"
      ]
     },
     "execution_count": 17,
     "metadata": {},
     "output_type": "execute_result"
    }
   ],
   "source": [
    "sum(list(generations_weighted.values()))"
   ]
  },
  {
   "cell_type": "code",
   "execution_count": 18,
   "id": "52757ace",
   "metadata": {},
   "outputs": [],
   "source": [
    "generated_sample_index = np.random.choice(list(generations_weighted.keys()), \n",
    "                                              size=1,\n",
    "                                              replace=True,\n",
    "                                              p=list(generations_weighted.values()))"
   ]
  },
  {
   "cell_type": "code",
   "execution_count": 19,
   "id": "b56e92f9",
   "metadata": {},
   "outputs": [
    {
     "data": {
      "text/plain": [
       "array(['2'], dtype='<U1')"
      ]
     },
     "execution_count": 19,
     "metadata": {},
     "output_type": "execute_result"
    }
   ],
   "source": [
    "generated_sample_index"
   ]
  },
  {
   "cell_type": "code",
   "execution_count": 20,
   "id": "50202d0c",
   "metadata": {},
   "outputs": [
    {
     "data": {
      "text/plain": [
       "'2'"
      ]
     },
     "execution_count": 20,
     "metadata": {},
     "output_type": "execute_result"
    }
   ],
   "source": [
    "generated_sample_index[0]"
   ]
  },
  {
   "cell_type": "code",
   "execution_count": 21,
   "id": "bf85d9f4",
   "metadata": {},
   "outputs": [],
   "source": [
    "generations_weighted[\"2\"] = generations_weighted[\"2\"] / 2"
   ]
  },
  {
   "cell_type": "code",
   "execution_count": 22,
   "id": "10a54c4c",
   "metadata": {},
   "outputs": [
    {
     "data": {
      "text/plain": [
       "[0.1, 0.1, 0.05, 0.1, 0.1, 0.1, 0.1, 0.1, 0.1, 0.1]"
      ]
     },
     "execution_count": 22,
     "metadata": {},
     "output_type": "execute_result"
    }
   ],
   "source": [
    "list(generations_weighted.values())"
   ]
  },
  {
   "cell_type": "code",
   "execution_count": 23,
   "id": "ba452ebc",
   "metadata": {},
   "outputs": [
    {
     "data": {
      "text/plain": [
       "0.9499999999999998"
      ]
     },
     "execution_count": 23,
     "metadata": {},
     "output_type": "execute_result"
    }
   ],
   "source": [
    "sum(list(generations_weighted.values()))"
   ]
  },
  {
   "cell_type": "code",
   "execution_count": 24,
   "id": "aa63d4f2",
   "metadata": {},
   "outputs": [
    {
     "data": {
      "text/plain": [
       "0.005555555555555573"
      ]
     },
     "execution_count": 24,
     "metadata": {},
     "output_type": "execute_result"
    }
   ],
   "source": [
    "(1 - sum(list(generations_weighted.values()))) / (len(generations)-1)"
   ]
  },
  {
   "cell_type": "code",
   "execution_count": 25,
   "id": "e01bafc1",
   "metadata": {},
   "outputs": [],
   "source": [
    "num = (1 - sum(list(generations_weighted.values()))) / (len(generations)-1)"
   ]
  },
  {
   "cell_type": "code",
   "execution_count": 26,
   "id": "eba3db8e",
   "metadata": {},
   "outputs": [
    {
     "data": {
      "text/plain": [
       "0.005555555555555573"
      ]
     },
     "execution_count": 26,
     "metadata": {},
     "output_type": "execute_result"
    }
   ],
   "source": [
    "num"
   ]
  },
  {
   "cell_type": "code",
   "execution_count": 27,
   "id": "abb37e80",
   "metadata": {},
   "outputs": [],
   "source": [
    "# [generations_weighted[index] += num if index =! '2' for index in list(generations_weighted.keys())]"
   ]
  },
  {
   "cell_type": "code",
   "execution_count": 28,
   "id": "0897d7bd",
   "metadata": {},
   "outputs": [],
   "source": [
    "for index in list(generations_weighted.keys()):\n",
    "    if index != '2':\n",
    "        generations_weighted[index] += num"
   ]
  },
  {
   "cell_type": "code",
   "execution_count": 29,
   "id": "0ab30c02",
   "metadata": {},
   "outputs": [
    {
     "data": {
      "text/plain": [
       "[0.10555555555555558,\n",
       " 0.10555555555555558,\n",
       " 0.05,\n",
       " 0.10555555555555558,\n",
       " 0.10555555555555558,\n",
       " 0.10555555555555558,\n",
       " 0.10555555555555558,\n",
       " 0.10555555555555558,\n",
       " 0.10555555555555558,\n",
       " 0.10555555555555558]"
      ]
     },
     "execution_count": 29,
     "metadata": {},
     "output_type": "execute_result"
    }
   ],
   "source": [
    "list(generations_weighted.values())"
   ]
  },
  {
   "cell_type": "code",
   "execution_count": 30,
   "id": "cc4c13e2",
   "metadata": {},
   "outputs": [
    {
     "data": {
      "text/plain": [
       "1.0000000000000004"
      ]
     },
     "execution_count": 30,
     "metadata": {},
     "output_type": "execute_result"
    }
   ],
   "source": [
    "sum(list(generations_weighted.values()))"
   ]
  },
  {
   "cell_type": "code",
   "execution_count": null,
   "id": "c98bc520",
   "metadata": {},
   "outputs": [],
   "source": []
  },
  {
   "cell_type": "markdown",
   "id": "99337aa2",
   "metadata": {},
   "source": [
    "## Human Evaluation Part"
   ]
  },
  {
   "cell_type": "markdown",
   "id": "182d1f52",
   "metadata": {},
   "source": [
    "At the most basic level, interact autogenerates UI controls for function arguments, and then calls the function with those arguments when you manipulate the controls interactively. "
   ]
  },
  {
   "cell_type": "code",
   "execution_count": 15,
   "id": "036ea85b",
   "metadata": {},
   "outputs": [
    {
     "data": {
      "application/vnd.jupyter.widget-view+json": {
       "model_id": "96940923f17340168b4d782013f14960",
       "version_major": 2,
       "version_minor": 0
      },
      "text/plain": [
       "interactive(children=(IntSlider(value=5, description='faithfulness', max=10), Output()), _dom_classes=('widget…"
      ]
     },
     "metadata": {},
     "output_type": "display_data"
    }
   ],
   "source": [
    "# add slide bar to the function with the interact decorator.    \n",
    "@interact(faithfulness=(0, 10))\n",
    "def human_evaluation(faithfulness):\n",
    "    \n",
    "    \n",
    "    \n",
    "    # randomly select a sample according to weighted distribution\n",
    "    generated_sample_index = np.random.choice(list(generations_weighted.keys()), \n",
    "                                              size=1,\n",
    "                                              replace=True,\n",
    "                                              p=list(generations_weighted.values()))\n",
    "    \n",
    "    # '3' not array(['3']\n",
    "    generated_sample_index = generated_sample_index[0]\n",
    "    \n",
    "    # update the weight of selected sample (decrease by half)\n",
    "    generations_weighted[generated_sample_index] = generations_weighted[generated_sample_index] / 2\n",
    "    \n",
    "    # evenly increase all other probabilities\n",
    "    increase_num = (1 - sum(list(generations_weighted.values()))) / (len(generations)-1)\n",
    "    \n",
    "    for another_index in list(generations_weighted.keys()):\n",
    "        if another_index != generated_sample_index:\n",
    "            generations_weighted[another_index] += increase_num\n",
    "    \n",
    "    # display input-target-generation\n",
    "    print(\"~~~~~~~~ Input ~~~~~~~\")\n",
    "    print(inputs[generated_sample_index])\n",
    "    \n",
    "    print(\"\\n~~~~~~~~ Generation ~~~~~~~\")\n",
    "    print(generations[generated_sample_index])\n",
    "    \n",
    "    print(\"\\n~~~~~~~~ Target ~~~~~~~\")\n",
    "    print(targets[generated_sample_index])\n",
    "    \n",
    "    \n",
    "    # used selects a scale\n",
    "    \n",
    "    # save results\n",
    "    results_faithfulness[generated_sample_index].append(faithfulness)\n",
    "    \n",
    "    # print(\"\\n\\nThe square of %d is %d.\" % (faithfulness, faithfulness**2))"
   ]
  },
  {
   "cell_type": "code",
   "execution_count": 30,
   "id": "a9d5b88d",
   "metadata": {},
   "outputs": [
    {
     "data": {
      "text/plain": [
       "{'0': 0.06571812117745549,\n",
       " '1': 0.11112268226647644,\n",
       " '2': 0.08328776225386743,\n",
       " '3': 0.06465420433741724,\n",
       " '4': 0.11361957655168947,\n",
       " '5': 0.17499561403661706,\n",
       " '6': 0.06399825016935448,\n",
       " '7': 0.1779884231340167,\n",
       " '8': 0.07188703653965377,\n",
       " '9': 0.07272832953345185}"
      ]
     },
     "execution_count": 30,
     "metadata": {},
     "output_type": "execute_result"
    }
   ],
   "source": [
    "generations_weighted"
   ]
  },
  {
   "cell_type": "code",
   "execution_count": 31,
   "id": "6958cffb",
   "metadata": {},
   "outputs": [
    {
     "data": {
      "text/plain": [
       "{'0': [9, 1, 4, 6, 5],\n",
       " '1': [9, 5],\n",
       " '2': [7, 6, 8, 1],\n",
       " '3': [9, 8, 8, 7, 6],\n",
       " '4': [1, 5],\n",
       " '5': [4, 7],\n",
       " '6': [5, 4, 5, 8],\n",
       " '7': [5, 9],\n",
       " '8': [4, 1, 9],\n",
       " '9': [1, 6, 2, 3]}"
      ]
     },
     "execution_count": 31,
     "metadata": {},
     "output_type": "execute_result"
    }
   ],
   "source": [
    "results_faithfulness"
   ]
  },
  {
   "cell_type": "code",
   "execution_count": null,
   "id": "4a9091e1",
   "metadata": {},
   "outputs": [],
   "source": []
  },
  {
   "cell_type": "code",
   "execution_count": null,
   "id": "3867ac43",
   "metadata": {},
   "outputs": [],
   "source": []
  },
  {
   "cell_type": "code",
   "execution_count": 21,
   "id": "78266310",
   "metadata": {},
   "outputs": [],
   "source": [
    "# TO-DO- truncate text\n",
    "# use code from presentation_demo to make text - \"untokenized\"\n",
    "# think how to save results\n",
    "# maybe not a number but a button from 1-10 would be easier to choose!!!\n",
    "\n",
    "# have problem in prob dist. I need not to update evenly all samples excpet the current, \n",
    "# but update *5 less probable* \n",
    "\n",
    "\n",
    "# instead of T5_Tokenizer threshold, choose another threshold ~~~~ Similar size in length (char-wise, token-wise)\n",
    "# hughlighting NER"
   ]
  },
  {
   "cell_type": "code",
   "execution_count": null,
   "id": "6fe874a6",
   "metadata": {},
   "outputs": [],
   "source": []
  },
  {
   "cell_type": "code",
   "execution_count": null,
   "id": "477be2b0",
   "metadata": {},
   "outputs": [],
   "source": []
  },
  {
   "cell_type": "markdown",
   "id": "96e8a392",
   "metadata": {},
   "source": [
    "## Question - Is this text adequate compared to original text? (1-10) ~ Everything"
   ]
  },
  {
   "cell_type": "markdown",
   "id": "1e23a9f7",
   "metadata": {},
   "source": [
    "Fluency?   \n",
    "Hallucination present?     \n",
    "Missing Fact?     \n",
    "Typos?     \n",
    "Repetitions?    "
   ]
  },
  {
   "cell_type": "markdown",
   "id": "1243ec48",
   "metadata": {},
   "source": [
    "#### How sever are hallucinations?\n",
    "\n",
    "#### To which extend all entities included in the generation? \n",
    "(How sever are missing facts? Are all entities included in the generation?)\n",
    "\n",
    "#### How fluent is this generation?"
   ]
  },
  {
   "cell_type": "markdown",
   "id": "2488b363",
   "metadata": {},
   "source": [
    "Just 1 section - specialize in section 1 writing :)  & intermediate results\n",
    "\n",
    "\n",
    "T5/BART/Content Planner - mixed"
   ]
  },
  {
   "cell_type": "code",
   "execution_count": null,
   "id": "c3b5cb5a",
   "metadata": {},
   "outputs": [],
   "source": []
  },
  {
   "cell_type": "code",
   "execution_count": null,
   "id": "1d352db6",
   "metadata": {},
   "outputs": [],
   "source": []
  },
  {
   "cell_type": "code",
   "execution_count": null,
   "id": "b9a5889f",
   "metadata": {},
   "outputs": [],
   "source": []
  },
  {
   "cell_type": "code",
   "execution_count": null,
   "id": "5ee76392",
   "metadata": {},
   "outputs": [],
   "source": []
  },
  {
   "cell_type": "markdown",
   "id": "b09f8189",
   "metadata": {},
   "source": [
    "https://numpy.org/doc/stable/reference/random/generated/numpy.random.choice.html   \n",
    "https://aclanthology.org/2020.coling-main.420.pdf   \n"
   ]
  },
  {
   "cell_type": "markdown",
   "id": "6d368375",
   "metadata": {},
   "source": [
    "https://www.dev2qa.com/how-to-add-interactive-widget-slide-bar-in-jupyter-notebook/    \n",
    "\n",
    "jupyter notebook ipywidgets sliding bar    \n",
    "\n",
    "https://ipywidgets.readthedocs.io/en/stable/    \n",
    "https://ipywidgets.readthedocs.io/en/stable/examples/Using%20Interact.html    "
   ]
  },
  {
   "cell_type": "markdown",
   "id": "deea0078",
   "metadata": {},
   "source": [
    "--------------------------------------------"
   ]
  },
  {
   "cell_type": "code",
   "execution_count": 3,
   "id": "2b9b118e",
   "metadata": {},
   "outputs": [],
   "source": [
    "from IPython.display import display"
   ]
  },
  {
   "cell_type": "code",
   "execution_count": 27,
   "id": "988f933a",
   "metadata": {},
   "outputs": [],
   "source": [
    "one_var_array = []\n",
    "two_var_array = []"
   ]
  },
  {
   "cell_type": "code",
   "execution_count": 29,
   "id": "0651a871",
   "metadata": {},
   "outputs": [
    {
     "data": {
      "application/vnd.jupyter.widget-view+json": {
       "model_id": "41214d0c08164a75880580f8906d12dd",
       "version_major": 2,
       "version_minor": 0
      },
      "text/plain": [
       "Button(description='Click Me!', style=ButtonStyle())"
      ]
     },
     "metadata": {},
     "output_type": "display_data"
    },
    {
     "data": {
      "application/vnd.jupyter.widget-view+json": {
       "model_id": "f00b1c6638db441eb15bd9b1a74b107d",
       "version_major": 2,
       "version_minor": 0
      },
      "text/plain": [
       "Output()"
      ]
     },
     "metadata": {},
     "output_type": "display_data"
    }
   ],
   "source": [
    "\n",
    "button = widgets.Button(description=\"Click Me!\")\n",
    "output = widgets.Output()\n",
    "\n",
    "display(button, output)\n",
    "\n",
    "def on_button_clicked(b):\n",
    "    with output:\n",
    "        print(\"Button clicked.\")\n",
    "\n",
    "button.on_click(on_button_clicked)"
   ]
  },
  {
   "cell_type": "code",
   "execution_count": 30,
   "id": "7dc410f7",
   "metadata": {},
   "outputs": [
    {
     "data": {
      "application/vnd.jupyter.widget-view+json": {
       "model_id": "035364fd010b4a5d83e6a6a596683c6a",
       "version_major": 2,
       "version_minor": 0
      },
      "text/plain": [
       "VBox(children=(IntSlider(value=0, continuous_update=False, description='Delayed'), IntText(value=0, descriptio…"
      ]
     },
     "metadata": {},
     "output_type": "display_data"
    }
   ],
   "source": [
    "a = widgets.IntSlider(description=\"Delayed\", continuous_update=False)\n",
    "b = widgets.IntText(description=\"Delayed\", continuous_update=False)\n",
    "c = widgets.IntSlider(description=\"Continuous\", continuous_update=True)\n",
    "d = widgets.IntText(description=\"Continuous\", continuous_update=True)\n",
    "\n",
    "widgets.link((a, 'value'), (b, 'value'))\n",
    "widgets.link((a, 'value'), (c, 'value'))\n",
    "widgets.link((a, 'value'), (d, 'value'))\n",
    "widgets.VBox([a,b,c,d])"
   ]
  },
  {
   "cell_type": "code",
   "execution_count": 37,
   "id": "6df4416c",
   "metadata": {},
   "outputs": [
    {
     "data": {
      "application/vnd.jupyter.widget-view+json": {
       "model_id": "0338a742ac32457f80f8766353c2d918",
       "version_major": 2,
       "version_minor": 0
      },
      "text/plain": [
       "Dropdown(description='Task:', options=('Addition', 'Multiplication', 'Subtraction', 'Division', 'Suck_my_dick'…"
      ]
     },
     "metadata": {},
     "output_type": "display_data"
    },
    {
     "name": "stdout",
     "output_type": "stream",
     "text": [
      "change\n",
      "{'index': 4}\n",
      "change\n",
      "Suck_my_dick\n",
      "change\n",
      "Suck_my_dick\n",
      "changed to Suck_my_dick\n",
      "change\n",
      "4\n",
      "change\n",
      "{}\n"
     ]
    }
   ],
   "source": [
    "w = widgets.Dropdown(\n",
    "    options=['Addition', 'Multiplication', 'Subtraction', 'Division', \"Suck_my_dick\"],\n",
    "    value='Addition',\n",
    "    description='Task:',\n",
    ")\n",
    "\n",
    "def on_change(change):\n",
    "    \n",
    "#     print(change)\n",
    "#     print()\n",
    "    \n",
    "    print(change['type'])\n",
    "    print(change['new'])\n",
    "    \n",
    "    if change['type'] == 'change' and change['name'] == 'value':\n",
    "        print(\"changed to %s\" % change['new'])\n",
    "\n",
    "w.observe(on_change)\n",
    "\n",
    "display(w)"
   ]
  },
  {
   "cell_type": "code",
   "execution_count": null,
   "id": "eb119988",
   "metadata": {},
   "outputs": [],
   "source": []
  },
  {
   "cell_type": "code",
   "execution_count": 98,
   "id": "cf3e3073",
   "metadata": {},
   "outputs": [],
   "source": [
    "adequacy_resuls = []\n",
    "faithfulness_results = []"
   ]
  },
  {
   "cell_type": "code",
   "execution_count": 99,
   "id": "e0024273",
   "metadata": {},
   "outputs": [],
   "source": [
    "style = {'description_width': 'initial'}"
   ]
  },
  {
   "cell_type": "code",
   "execution_count": 111,
   "id": "49846b0c",
   "metadata": {},
   "outputs": [],
   "source": [
    "button_custom = widgets.Button(description=\"Suka\")\n",
    "\n",
    "def on_button_clicked_suka(b):\n",
    "    print(\"Button Suka clicked.\")\n",
    "\n",
    "button_custom.on_click(on_button_clicked_suka)"
   ]
  },
  {
   "cell_type": "code",
   "execution_count": 112,
   "id": "59fb2ffc",
   "metadata": {},
   "outputs": [
    {
     "data": {
      "application/vnd.jupyter.widget-view+json": {
       "model_id": "3ccf9e7aa797474bb1292b41659e9f3f",
       "version_major": 2,
       "version_minor": 0
      },
      "text/plain": [
       "Button(description='Suka', style=ButtonStyle())"
      ]
     },
     "metadata": {},
     "output_type": "display_data"
    },
    {
     "name": "stdout",
     "output_type": "stream",
     "text": [
      "Button Suka clicked.\n",
      "Button Suka clicked.\n",
      "Button Suka clicked.\n",
      "Button Suka clicked.\n",
      "Button Suka clicked.\n",
      "Button Suka clicked.\n",
      "Button Suka clicked.\n",
      "Button Suka clicked.\n"
     ]
    }
   ],
   "source": [
    "display(button_custom)\n"
   ]
  },
  {
   "cell_type": "code",
   "execution_count": null,
   "id": "f1cae896",
   "metadata": {},
   "outputs": [],
   "source": []
  },
  {
   "cell_type": "markdown",
   "id": "27a7bff6",
   "metadata": {},
   "source": [
    "## --------------------------------------------------------------------------------"
   ]
  },
  {
   "cell_type": "code",
   "execution_count": 6,
   "id": "1e0b2e02",
   "metadata": {},
   "outputs": [],
   "source": [
    "style = {'description_width': 'initial'}"
   ]
  },
  {
   "cell_type": "code",
   "execution_count": 46,
   "id": "6bbd8835",
   "metadata": {},
   "outputs": [],
   "source": [
    "adequacy_resuls = []\n",
    "hallucination_results = []\n",
    "all_entities_results = []\n",
    "fluency_results = []"
   ]
  },
  {
   "cell_type": "code",
   "execution_count": 55,
   "id": "4aec4f7d",
   "metadata": {},
   "outputs": [],
   "source": [
    "main_button = widgets.Button(description=\"Show me a Sample\")\n",
    "\n",
    "dropdown_general = widgets.Dropdown(\n",
    "                options=['Not selected', '1 One 1', '2 Two 2', '3 Three 3', '4 Four 4', '5 Five 5', \n",
    "                         '6 Six 6', '7 Seven 7', '8 Eight 8', '9 Nine 9', '10 Ten 10'],\n",
    "                value='Not selected',\n",
    "                description='To which extent is this text *adequate*? ',\n",
    "                style=style,\n",
    ")\n",
    "\n",
    "dropdown_hallucination = widgets.Dropdown(\n",
    "                options=['Not selected', '1 One 1', '2 Two 2', '3 Three 3', '4 Four 4', '5 Five 5', \n",
    "                         '6 Six 6', '7 Seven 7', '8 Eight 8', '9 Nine 9', '10 Ten 10'],\n",
    "                value='Not selected',\n",
    "                description='How severe are *hallucinations*? ',\n",
    "                style=style,\n",
    ")\n",
    "\n",
    "dropdown_all_entities = widgets.Dropdown(\n",
    "                options=['Not selected', '1 One 1', '2 Two 2', '3 Three 3', '4 Four 4', '5 Five 5', \n",
    "                         '6 Six 6', '7 Seven 7', '8 Eight 8', '9 Nine 9', '10 Ten 10'],\n",
    "                value='Not selected',\n",
    "                description='To which extend *all entities* included?: ',\n",
    "                style=style,\n",
    ")\n",
    "\n",
    "\n",
    "dropdown_fluency = widgets.Dropdown(\n",
    "                options=['Not selected', '1 One 1', '2 Two 2', '3 Three 3', '4 Four 4', '5 Five 5', \n",
    "                         '6 Six 6', '7 Seven 7', '8 Eight 8', '9 Nine 9', '10 Ten 10'],\n",
    "                value='Not selected',\n",
    "                description='How *fluent* is the generation?: ',\n",
    "                style=style,\n",
    ")"
   ]
  },
  {
   "cell_type": "code",
   "execution_count": 49,
   "id": "b706795c",
   "metadata": {},
   "outputs": [],
   "source": [
    "def on_change_dropdown_general(change):\n",
    "    if change['type'] == 'change' and change['name'] == 'value':\n",
    "        adequacy_resuls.append(change['new'])\n",
    "\n",
    "        \n",
    "def on_change_dropdown_hallucination(change):\n",
    "    if change['type'] == 'change' and change['name'] == 'value':\n",
    "        hallucination_results.append(change['new'])\n",
    "        \n",
    "        \n",
    "def on_change_dropdown_all_entities(change):\n",
    "    if change['type'] == 'change' and change['name'] == 'value':\n",
    "        all_entities_results.append(change['new'])\n",
    "        \n",
    "\n",
    "def on_change_dropdown_fluency(change):\n",
    "    if change['type'] == 'change' and change['name'] == 'value':\n",
    "        fluency_results.append(change['new'])"
   ]
  },
  {
   "cell_type": "code",
   "execution_count": 50,
   "id": "2d46e201",
   "metadata": {},
   "outputs": [],
   "source": [
    "dropdown_general.observe(on_change_dropdown_general)\n",
    "dropdown_hallucination.observe(on_change_dropdown_hallucination)\n",
    "dropdown_all_entities.observe(on_change_dropdown_all_entities)\n",
    "dropdown_fluency.observe(on_change_dropdown_fluency)"
   ]
  },
  {
   "cell_type": "code",
   "execution_count": 51,
   "id": "53f454af",
   "metadata": {},
   "outputs": [],
   "source": [
    "def on_button_clicked(b):\n",
    "    \n",
    "    # check that user selected all dropdowns\n",
    "    assert len(adequacy_resuls) == len(hallucination_results)\n",
    "    assert len(adequacy_resuls) == len(all_entities_results)\n",
    "    assert len(adequacy_resuls) == len(fluency_results)\n",
    "    \n",
    "    # display text\n",
    "    update_text()\n",
    "    \n",
    "    # display dropdowns\n",
    "    display(dropdown_general)\n",
    "    display(dropdown_hallucination)\n",
    "    display(dropdown_all_entities)\n",
    "    display(dropdown_fluency)\n",
    "    \n",
    "    # clear output\n",
    "    # output_screen.clear_output()\n",
    "    # IPython.display.clear_output\n",
    "    \n",
    "    # display again button\n",
    "    display(main_button)\n",
    "\n",
    "    \n",
    "def update_text():\n",
    "    print('Random Num 1: ', np.random.randint(1,100))\n",
    "    print('Random Num 2: ', np.random.randint(100,10000))"
   ]
  },
  {
   "cell_type": "code",
   "execution_count": 52,
   "id": "c3de2e59",
   "metadata": {},
   "outputs": [],
   "source": [
    "main_button.on_click(on_button_clicked)"
   ]
  },
  {
   "cell_type": "code",
   "execution_count": 53,
   "id": "eb0f0c20",
   "metadata": {
    "scrolled": false
   },
   "outputs": [
    {
     "data": {
      "application/vnd.jupyter.widget-view+json": {
       "model_id": "7821bb620cb74398b9aafa208cc3fc98",
       "version_major": 2,
       "version_minor": 0
      },
      "text/plain": [
       "Button(description='Show me a Sample', style=ButtonStyle())"
      ]
     },
     "metadata": {},
     "output_type": "display_data"
    },
    {
     "name": "stdout",
     "output_type": "stream",
     "text": [
      "Random Num 1:  97\n",
      "Random Num 2:  5718\n"
     ]
    },
    {
     "data": {
      "application/vnd.jupyter.widget-view+json": {
       "model_id": "515d79d6dced4962b350a1a15656c971",
       "version_major": 2,
       "version_minor": 0
      },
      "text/plain": [
       "Dropdown(description='To which extent is this text *adequate*? ', options=('Not selected', '1 One 1', '2 Two 2…"
      ]
     },
     "metadata": {},
     "output_type": "display_data"
    },
    {
     "data": {
      "application/vnd.jupyter.widget-view+json": {
       "model_id": "900d3aafe0b14ab1a124a03764b1a106",
       "version_major": 2,
       "version_minor": 0
      },
      "text/plain": [
       "Dropdown(description='How severe are *hallucinations*? ', options=('Not selected', '1 One 1', '2 Two 2', '3 Th…"
      ]
     },
     "metadata": {},
     "output_type": "display_data"
    },
    {
     "data": {
      "application/vnd.jupyter.widget-view+json": {
       "model_id": "28d67ceb043c45a09fa8906d63d34b41",
       "version_major": 2,
       "version_minor": 0
      },
      "text/plain": [
       "Dropdown(description='To which extend *all entities* included?: ', options=('Not selected', '1 One 1', '2 Two …"
      ]
     },
     "metadata": {},
     "output_type": "display_data"
    },
    {
     "data": {
      "application/vnd.jupyter.widget-view+json": {
       "model_id": "43a7ca32645f4f539be1e1c5bd9bd9f1",
       "version_major": 2,
       "version_minor": 0
      },
      "text/plain": [
       "Dropdown(description='How *fluent* is the generation?: ', options=('Not selected', '1 One 1', '2 Two 2', '3 Th…"
      ]
     },
     "metadata": {},
     "output_type": "display_data"
    },
    {
     "data": {
      "application/vnd.jupyter.widget-view+json": {
       "model_id": "7821bb620cb74398b9aafa208cc3fc98",
       "version_major": 2,
       "version_minor": 0
      },
      "text/plain": [
       "Button(description='Show me a Sample', style=ButtonStyle())"
      ]
     },
     "metadata": {},
     "output_type": "display_data"
    },
    {
     "name": "stdout",
     "output_type": "stream",
     "text": [
      "Random Num 1:  18\n",
      "Random Num 2:  718\n"
     ]
    },
    {
     "data": {
      "application/vnd.jupyter.widget-view+json": {
       "model_id": "515d79d6dced4962b350a1a15656c971",
       "version_major": 2,
       "version_minor": 0
      },
      "text/plain": [
       "Dropdown(description='To which extent is this text *adequate*? ', index=2, options=('Not selected', '1 One 1',…"
      ]
     },
     "metadata": {},
     "output_type": "display_data"
    },
    {
     "data": {
      "application/vnd.jupyter.widget-view+json": {
       "model_id": "900d3aafe0b14ab1a124a03764b1a106",
       "version_major": 2,
       "version_minor": 0
      },
      "text/plain": [
       "Dropdown(description='How severe are *hallucinations*? ', index=7, options=('Not selected', '1 One 1', '2 Two …"
      ]
     },
     "metadata": {},
     "output_type": "display_data"
    },
    {
     "data": {
      "application/vnd.jupyter.widget-view+json": {
       "model_id": "28d67ceb043c45a09fa8906d63d34b41",
       "version_major": 2,
       "version_minor": 0
      },
      "text/plain": [
       "Dropdown(description='To which extend *all entities* included?: ', index=6, options=('Not selected', '1 One 1'…"
      ]
     },
     "metadata": {},
     "output_type": "display_data"
    },
    {
     "data": {
      "application/vnd.jupyter.widget-view+json": {
       "model_id": "43a7ca32645f4f539be1e1c5bd9bd9f1",
       "version_major": 2,
       "version_minor": 0
      },
      "text/plain": [
       "Dropdown(description='How *fluent* is the generation?: ', index=7, options=('Not selected', '1 One 1', '2 Two …"
      ]
     },
     "metadata": {},
     "output_type": "display_data"
    },
    {
     "data": {
      "application/vnd.jupyter.widget-view+json": {
       "model_id": "7821bb620cb74398b9aafa208cc3fc98",
       "version_major": 2,
       "version_minor": 0
      },
      "text/plain": [
       "Button(description='Show me a Sample', style=ButtonStyle())"
      ]
     },
     "metadata": {},
     "output_type": "display_data"
    },
    {
     "ename": "AssertionError",
     "evalue": "",
     "output_type": "error",
     "traceback": [
      "\u001b[0;31m------------------------------------------------------------------------\u001b[0m",
      "\u001b[0;31mAssertionError\u001b[0m                         Traceback (most recent call last)",
      "\u001b[0;32m<ipython-input-51-9dc2c7e94b0a>\u001b[0m in \u001b[0;36mon_button_clicked\u001b[0;34m(b)\u001b[0m\n\u001b[1;32m      4\u001b[0m     \u001b[0;32massert\u001b[0m \u001b[0mlen\u001b[0m\u001b[0;34m(\u001b[0m\u001b[0madequacy_resuls\u001b[0m\u001b[0;34m)\u001b[0m \u001b[0;34m==\u001b[0m \u001b[0mlen\u001b[0m\u001b[0;34m(\u001b[0m\u001b[0mhallucination_results\u001b[0m\u001b[0;34m)\u001b[0m\u001b[0;34m\u001b[0m\u001b[0;34m\u001b[0m\u001b[0m\n\u001b[1;32m      5\u001b[0m     \u001b[0;32massert\u001b[0m \u001b[0mlen\u001b[0m\u001b[0;34m(\u001b[0m\u001b[0madequacy_resuls\u001b[0m\u001b[0;34m)\u001b[0m \u001b[0;34m==\u001b[0m \u001b[0mlen\u001b[0m\u001b[0;34m(\u001b[0m\u001b[0mall_entities_results\u001b[0m\u001b[0;34m)\u001b[0m\u001b[0;34m\u001b[0m\u001b[0;34m\u001b[0m\u001b[0m\n\u001b[0;32m----> 6\u001b[0;31m     \u001b[0;32massert\u001b[0m \u001b[0mlen\u001b[0m\u001b[0;34m(\u001b[0m\u001b[0madequacy_resuls\u001b[0m\u001b[0;34m)\u001b[0m \u001b[0;34m==\u001b[0m \u001b[0mlen\u001b[0m\u001b[0;34m(\u001b[0m\u001b[0mfluency_results\u001b[0m\u001b[0;34m)\u001b[0m\u001b[0;34m\u001b[0m\u001b[0;34m\u001b[0m\u001b[0m\n\u001b[0m\u001b[1;32m      7\u001b[0m \u001b[0;34m\u001b[0m\u001b[0m\n\u001b[1;32m      8\u001b[0m     \u001b[0;31m# display text\u001b[0m\u001b[0;34m\u001b[0m\u001b[0;34m\u001b[0m\u001b[0;34m\u001b[0m\u001b[0m\n",
      "\u001b[0;31mAssertionError\u001b[0m: "
     ]
    },
    {
     "ename": "AssertionError",
     "evalue": "",
     "output_type": "error",
     "traceback": [
      "\u001b[0;31m------------------------------------------------------------------------\u001b[0m",
      "\u001b[0;31mAssertionError\u001b[0m                         Traceback (most recent call last)",
      "\u001b[0;32m<ipython-input-51-9dc2c7e94b0a>\u001b[0m in \u001b[0;36mon_button_clicked\u001b[0;34m(b)\u001b[0m\n\u001b[1;32m      2\u001b[0m \u001b[0;34m\u001b[0m\u001b[0m\n\u001b[1;32m      3\u001b[0m     \u001b[0;31m# check that user selected all dropdowns\u001b[0m\u001b[0;34m\u001b[0m\u001b[0;34m\u001b[0m\u001b[0;34m\u001b[0m\u001b[0m\n\u001b[0;32m----> 4\u001b[0;31m     \u001b[0;32massert\u001b[0m \u001b[0mlen\u001b[0m\u001b[0;34m(\u001b[0m\u001b[0madequacy_resuls\u001b[0m\u001b[0;34m)\u001b[0m \u001b[0;34m==\u001b[0m \u001b[0mlen\u001b[0m\u001b[0;34m(\u001b[0m\u001b[0mhallucination_results\u001b[0m\u001b[0;34m)\u001b[0m\u001b[0;34m\u001b[0m\u001b[0;34m\u001b[0m\u001b[0m\n\u001b[0m\u001b[1;32m      5\u001b[0m     \u001b[0;32massert\u001b[0m \u001b[0mlen\u001b[0m\u001b[0;34m(\u001b[0m\u001b[0madequacy_resuls\u001b[0m\u001b[0;34m)\u001b[0m \u001b[0;34m==\u001b[0m \u001b[0mlen\u001b[0m\u001b[0;34m(\u001b[0m\u001b[0mall_entities_results\u001b[0m\u001b[0;34m)\u001b[0m\u001b[0;34m\u001b[0m\u001b[0;34m\u001b[0m\u001b[0m\n\u001b[1;32m      6\u001b[0m     \u001b[0;32massert\u001b[0m \u001b[0mlen\u001b[0m\u001b[0;34m(\u001b[0m\u001b[0madequacy_resuls\u001b[0m\u001b[0;34m)\u001b[0m \u001b[0;34m==\u001b[0m \u001b[0mlen\u001b[0m\u001b[0;34m(\u001b[0m\u001b[0mfluency_results\u001b[0m\u001b[0;34m)\u001b[0m\u001b[0;34m\u001b[0m\u001b[0;34m\u001b[0m\u001b[0m\n",
      "\u001b[0;31mAssertionError\u001b[0m: "
     ]
    },
    {
     "ename": "AssertionError",
     "evalue": "",
     "output_type": "error",
     "traceback": [
      "\u001b[0;31m------------------------------------------------------------------------\u001b[0m",
      "\u001b[0;31mAssertionError\u001b[0m                         Traceback (most recent call last)",
      "\u001b[0;32m<ipython-input-51-9dc2c7e94b0a>\u001b[0m in \u001b[0;36mon_button_clicked\u001b[0;34m(b)\u001b[0m\n\u001b[1;32m      3\u001b[0m     \u001b[0;31m# check that user selected all dropdowns\u001b[0m\u001b[0;34m\u001b[0m\u001b[0;34m\u001b[0m\u001b[0;34m\u001b[0m\u001b[0m\n\u001b[1;32m      4\u001b[0m     \u001b[0;32massert\u001b[0m \u001b[0mlen\u001b[0m\u001b[0;34m(\u001b[0m\u001b[0madequacy_resuls\u001b[0m\u001b[0;34m)\u001b[0m \u001b[0;34m==\u001b[0m \u001b[0mlen\u001b[0m\u001b[0;34m(\u001b[0m\u001b[0mhallucination_results\u001b[0m\u001b[0;34m)\u001b[0m\u001b[0;34m\u001b[0m\u001b[0;34m\u001b[0m\u001b[0m\n\u001b[0;32m----> 5\u001b[0;31m     \u001b[0;32massert\u001b[0m \u001b[0mlen\u001b[0m\u001b[0;34m(\u001b[0m\u001b[0madequacy_resuls\u001b[0m\u001b[0;34m)\u001b[0m \u001b[0;34m==\u001b[0m \u001b[0mlen\u001b[0m\u001b[0;34m(\u001b[0m\u001b[0mall_entities_results\u001b[0m\u001b[0;34m)\u001b[0m\u001b[0;34m\u001b[0m\u001b[0;34m\u001b[0m\u001b[0m\n\u001b[0m\u001b[1;32m      6\u001b[0m     \u001b[0;32massert\u001b[0m \u001b[0mlen\u001b[0m\u001b[0;34m(\u001b[0m\u001b[0madequacy_resuls\u001b[0m\u001b[0;34m)\u001b[0m \u001b[0;34m==\u001b[0m \u001b[0mlen\u001b[0m\u001b[0;34m(\u001b[0m\u001b[0mfluency_results\u001b[0m\u001b[0;34m)\u001b[0m\u001b[0;34m\u001b[0m\u001b[0;34m\u001b[0m\u001b[0m\n\u001b[1;32m      7\u001b[0m \u001b[0;34m\u001b[0m\u001b[0m\n",
      "\u001b[0;31mAssertionError\u001b[0m: "
     ]
    }
   ],
   "source": [
    "display(main_button)"
   ]
  },
  {
   "cell_type": "code",
   "execution_count": null,
   "id": "145ee343",
   "metadata": {},
   "outputs": [],
   "source": []
  },
  {
   "cell_type": "code",
   "execution_count": null,
   "id": "6be294b5",
   "metadata": {},
   "outputs": [],
   "source": []
  },
  {
   "cell_type": "code",
   "execution_count": 54,
   "id": "7472f3ea",
   "metadata": {},
   "outputs": [
    {
     "name": "stdout",
     "output_type": "stream",
     "text": [
      "['2 Two 2', '10 Ten 10', '3 Three 3']\n",
      "['7 Seven 7', '9 Nine 9', '3 Three 3']\n",
      "['6 Six 6', '8 Eight 8']\n",
      "['7 Seven 7']\n"
     ]
    }
   ],
   "source": [
    "print(adequacy_resuls)\n",
    "print(hallucination_results)\n",
    "print(all_entities_results)\n",
    "print(fluency_results)"
   ]
  },
  {
   "cell_type": "code",
   "execution_count": null,
   "id": "c2968094",
   "metadata": {},
   "outputs": [],
   "source": []
  },
  {
   "cell_type": "code",
   "execution_count": null,
   "id": "85158918",
   "metadata": {},
   "outputs": [],
   "source": []
  },
  {
   "cell_type": "code",
   "execution_count": null,
   "id": "b67f87e9",
   "metadata": {},
   "outputs": [],
   "source": []
  },
  {
   "cell_type": "code",
   "execution_count": null,
   "id": "03285228",
   "metadata": {},
   "outputs": [],
   "source": []
  },
  {
   "cell_type": "code",
   "execution_count": 123,
   "id": "5b6d5b7c",
   "metadata": {},
   "outputs": [
    {
     "name": "stdout",
     "output_type": "stream",
     "text": [
      "\n",
      "See a new sample? (just press <Enter>)\n",
      "\n"
     ]
    }
   ],
   "source": [
    "user_input = input(\"\\nSee a new sample? (just press <Enter>)\\n\")"
   ]
  },
  {
   "cell_type": "code",
   "execution_count": 137,
   "id": "ca0a4f70",
   "metadata": {},
   "outputs": [
    {
     "name": "stdout",
     "output_type": "stream",
     "text": [
      "\n",
      "See a new sample? (just press <Enter>)\n",
      "\n"
     ]
    },
    {
     "data": {
      "application/vnd.jupyter.widget-view+json": {
       "model_id": "ea2f773377d442bea5f5dc19332e81c6",
       "version_major": 2,
       "version_minor": 0
      },
      "text/plain": [
       "Button(description='Update Sample', style=ButtonStyle())"
      ]
     },
     "metadata": {},
     "output_type": "display_data"
    },
    {
     "name": "stdout",
     "output_type": "stream",
     "text": [
      "\n",
      "See a new sample?\n",
      "no\n"
     ]
    }
   ],
   "source": [
    "user_input = input(\"\\nSee a new sample? (just press <Enter>)\\n\")\n",
    "\n",
    "while user_input not in ['n', 'no', 'please no', 'nope', 'nein', 'leave me alone']:\n",
    "    display(main_button)\n",
    "    \n",
    "    user_input = input(\"\\nSee a new sample?\\n\")"
   ]
  },
  {
   "cell_type": "code",
   "execution_count": 128,
   "id": "22710eae",
   "metadata": {},
   "outputs": [
    {
     "data": {
      "application/vnd.jupyter.widget-view+json": {
       "model_id": "2bcf7f3ea3b740929be678cc75f82c0f",
       "version_major": 2,
       "version_minor": 0
      },
      "text/plain": [
       "Button(description='Update Sample', style=ButtonStyle())"
      ]
     },
     "metadata": {},
     "output_type": "display_data"
    }
   ],
   "source": [
    "display(main_button)"
   ]
  },
  {
   "cell_type": "markdown",
   "id": "b83a7907",
   "metadata": {},
   "source": [
    "## --------------------------------------------------------------------------------"
   ]
  },
  {
   "cell_type": "code",
   "execution_count": null,
   "id": "ee08f3ec",
   "metadata": {},
   "outputs": [],
   "source": []
  },
  {
   "cell_type": "code",
   "execution_count": null,
   "id": "fad43e32",
   "metadata": {},
   "outputs": [],
   "source": []
  },
  {
   "cell_type": "code",
   "execution_count": null,
   "id": "5112e377",
   "metadata": {},
   "outputs": [],
   "source": []
  },
  {
   "cell_type": "code",
   "execution_count": 100,
   "id": "09a0f5e8",
   "metadata": {},
   "outputs": [
    {
     "name": "stdout",
     "output_type": "stream",
     "text": [
      "Random Num 1:  74\n",
      "Random Num 2:  6016\n"
     ]
    },
    {
     "data": {
      "application/vnd.jupyter.widget-view+json": {
       "model_id": "c403498f9d1348ecbe479f95697110a0",
       "version_major": 2,
       "version_minor": 0
      },
      "text/plain": [
       "Dropdown(description='To which extent is this text *adequate*? ', options=('Not selected', '1 One 1', '2 Two 2…"
      ]
     },
     "metadata": {},
     "output_type": "display_data"
    },
    {
     "data": {
      "application/vnd.jupyter.widget-view+json": {
       "model_id": "cbef36f7314546bba4668f316262e4f4",
       "version_major": 2,
       "version_minor": 0
      },
      "text/plain": [
       "Dropdown(description='How severe are *hallucinations*? ', options=('Not selected', '1 One 1', '2 Two 2', '3 Th…"
      ]
     },
     "metadata": {},
     "output_type": "display_data"
    },
    {
     "data": {
      "application/vnd.jupyter.widget-view+json": {
       "model_id": "98ad3436ea9249f5b4b89c850c18a3ed",
       "version_major": 2,
       "version_minor": 0
      },
      "text/plain": [
       "Button(description='Update Sample', style=ButtonStyle())"
      ]
     },
     "metadata": {},
     "output_type": "display_data"
    },
    {
     "name": "stdout",
     "output_type": "stream",
     "text": [
      "Random Num 1:  67\n",
      "Random Num 2:  6841\n",
      "Button clicked.\n",
      "Random Num 1:  94\n",
      "Random Num 2:  6258\n",
      "Button clicked.\n"
     ]
    }
   ],
   "source": [
    "#############################################\n",
    "\n",
    "button = widgets.Button(description=\"Update Sample\")\n",
    "\n",
    "dropdown_general = widgets.Dropdown(\n",
    "                options=['Not selected', '1 One 1', '2 Two 2', '3 Three 3', '4 Four 4', '5 Five 5', \n",
    "                         '6 Six 6', '7 Seven 7', '8 Eight 8', '9 Nine 9', '10 Ten 10'],\n",
    "                value='Not selected',\n",
    "                description='To which extent is this text *adequate*? ',\n",
    "                style=style,\n",
    ")\n",
    "\n",
    "dropdown_faithfulness = widgets.Dropdown(\n",
    "                options=['Not selected', '1 One 1', '2 Two 2', '3 Three 3', '4 Four 4', '5 Five 5', \n",
    "                         '6 Six 6', '7 Seven 7', '8 Eight 8', '9 Nine 9', '10 Ten 10'],\n",
    "                value='Not selected',\n",
    "                description='How severe are *hallucinations*? ',\n",
    "                style=style,\n",
    ")\n",
    "\n",
    "\n",
    "def on_button_clicked(b):\n",
    "    \n",
    "    update_text()\n",
    "    \n",
    "    # TO-DO - RULE - make sure all dropdowns selected!!!\n",
    "    \n",
    "    print(\"Button clicked.\")\n",
    "    \n",
    "\n",
    "def update_text():\n",
    "    print('Random Num 1: ', np.random.randint(1,100))\n",
    "    print('Random Num 2: ', np.random.randint(100,10000))\n",
    "    \n",
    "\n",
    "def on_change_dropdown_general(change):\n",
    "    \n",
    "    if change['type'] == 'change' and change['name'] == 'value':\n",
    "        # print(\"changed to %s\" % change['new'])\n",
    "        adequacy_resuls.append(change['new'])\n",
    "\n",
    "\n",
    "def on_change_dropdown_faithfulness(change):\n",
    "    \n",
    "    if change['type'] == 'change' and change['name'] == 'value':\n",
    "        faithfulness_results.append(change['new'])\n",
    "\n",
    "        \n",
    "        \n",
    "dropdown_general.observe(on_change_dropdown_general)\n",
    "dropdown_faithfulness.observe(on_change_dropdown_faithfulness)\n",
    "\n",
    "\n",
    "print('Random Num 1: ', np.random.randint(1,100))\n",
    "print('Random Num 2: ', np.random.randint(100,10000))\n",
    "\n",
    "\n",
    "display(dropdown_general)\n",
    "display(dropdown_faithfulness)\n",
    "\n",
    "\n",
    "\n",
    "\n",
    "display(button)\n",
    "\n",
    "\n",
    "button.on_click(on_button_clicked)\n",
    "\n",
    "##############################################"
   ]
  },
  {
   "cell_type": "code",
   "execution_count": null,
   "id": "85568a3c",
   "metadata": {},
   "outputs": [],
   "source": []
  },
  {
   "cell_type": "code",
   "execution_count": null,
   "id": "4a4adb2b",
   "metadata": {},
   "outputs": [],
   "source": []
  },
  {
   "cell_type": "code",
   "execution_count": 104,
   "id": "f5685e24",
   "metadata": {},
   "outputs": [
    {
     "name": "stdout",
     "output_type": "stream",
     "text": [
      "['1 One 1']\n",
      "['10 Ten 10']\n"
     ]
    }
   ],
   "source": [
    "print(adequacy_resuls)\n",
    "print(faithfulness_results)"
   ]
  },
  {
   "cell_type": "code",
   "execution_count": null,
   "id": "8aed7528",
   "metadata": {},
   "outputs": [],
   "source": []
  },
  {
   "cell_type": "code",
   "execution_count": null,
   "id": "c86f90fa",
   "metadata": {},
   "outputs": [],
   "source": []
  },
  {
   "cell_type": "code",
   "execution_count": null,
   "id": "df2ccf47",
   "metadata": {},
   "outputs": [],
   "source": []
  },
  {
   "cell_type": "code",
   "execution_count": null,
   "id": "572be27d",
   "metadata": {},
   "outputs": [],
   "source": [
    "#### How sever are hallucinations?\n",
    "\n",
    "#### To which extend all entities included in the generation? \n",
    "(How sever are missing facts? Are all entities included in the generation?)\n",
    "\n",
    "#### How fluent is this generation?"
   ]
  },
  {
   "cell_type": "code",
   "execution_count": null,
   "id": "921854f4",
   "metadata": {},
   "outputs": [],
   "source": []
  },
  {
   "cell_type": "code",
   "execution_count": null,
   "id": "42e5bd1f",
   "metadata": {},
   "outputs": [],
   "source": [
    "#### Button try\n"
   ]
  },
  {
   "cell_type": "code",
   "execution_count": null,
   "id": "2bc6a4fe",
   "metadata": {},
   "outputs": [],
   "source": []
  },
  {
   "cell_type": "code",
   "execution_count": null,
   "id": "bde37f75",
   "metadata": {},
   "outputs": [],
   "source": []
  },
  {
   "cell_type": "code",
   "execution_count": null,
   "id": "eb4d62f8",
   "metadata": {},
   "outputs": [],
   "source": []
  },
  {
   "cell_type": "code",
   "execution_count": null,
   "id": "12e59244",
   "metadata": {},
   "outputs": [],
   "source": []
  },
  {
   "cell_type": "code",
   "execution_count": 24,
   "id": "f8acb43e",
   "metadata": {},
   "outputs": [
    {
     "data": {
      "application/vnd.jupyter.widget-view+json": {
       "model_id": "767f646569884f168825b53edf714012",
       "version_major": 2,
       "version_minor": 0
      },
      "text/plain": [
       "interactive(children=(Dropdown(description='faithfulness', options=(('1 One 1', 1), ('2 Two 2', 2), ('3 Three …"
      ]
     },
     "metadata": {},
     "output_type": "display_data"
    }
   ],
   "source": [
    "@interact(faithfulness=[('1 One 1', 1), ('2 Two 2', 2), ('3 Three 3', 3), ('4 Four 4', 4), ('5 Five 5', 5), \n",
    "                        ('6 Six 6', 6), ('7 Seven 7', 7), ('8 Eight 8', 8), ('9 Nine 9', 20), ('10 Ten 10', 10)],\n",
    "         entities_score=[('1 One 1', 1), ('2 Two 2', 2), ('3 Three 3', 3), ('4 Four 4', 4), ('5 Five 5', 5)])\n",
    "def eval_faith(faithfulness, entities_score):\n",
    "    \n",
    "    print('How sever are hallucinations?')\n",
    "    print('\\t\\t To which extend all entities included in the generation?')\n",
    "    \n",
    "    one_var = np.random.randint(1,100)\n",
    "    print(one_var)\n",
    "    \n",
    "    two_var = np.random.randint(100,1000)\n",
    "    print(two_var)\n",
    "    \n",
    "    # save results\n",
    "    one_var_array.append(faithfulness)\n",
    "    two_var_array.append(entities_score)"
   ]
  },
  {
   "cell_type": "code",
   "execution_count": 25,
   "id": "bd955af9",
   "metadata": {},
   "outputs": [
    {
     "data": {
      "text/plain": [
       "[1, 5, 8, 2, 2, 2, 1, 4, 5]"
      ]
     },
     "execution_count": 25,
     "metadata": {},
     "output_type": "execute_result"
    }
   ],
   "source": [
    "one_var_array"
   ]
  },
  {
   "cell_type": "code",
   "execution_count": 26,
   "id": "799f8ef5",
   "metadata": {},
   "outputs": [
    {
     "data": {
      "text/plain": [
       "[1, 1, 1, 1, 5, 1, 1, 1, 1]"
      ]
     },
     "execution_count": 26,
     "metadata": {},
     "output_type": "execute_result"
    }
   ],
   "source": [
    "two_var_array"
   ]
  },
  {
   "cell_type": "code",
   "execution_count": null,
   "id": "8df1400e",
   "metadata": {},
   "outputs": [],
   "source": []
  },
  {
   "cell_type": "code",
   "execution_count": null,
   "id": "e6399826",
   "metadata": {},
   "outputs": [],
   "source": []
  },
  {
   "cell_type": "code",
   "execution_count": null,
   "id": "cded0e8c",
   "metadata": {},
   "outputs": [],
   "source": []
  },
  {
   "cell_type": "code",
   "execution_count": null,
   "id": "88cc1987",
   "metadata": {},
   "outputs": [],
   "source": []
  },
  {
   "cell_type": "code",
   "execution_count": null,
   "id": "28ec5c69",
   "metadata": {},
   "outputs": [],
   "source": []
  },
  {
   "cell_type": "code",
   "execution_count": 23,
   "id": "3a9ec508",
   "metadata": {},
   "outputs": [
    {
     "data": {
      "application/vnd.jupyter.widget-view+json": {
       "model_id": "4b7d9565c03e4351a6626027c450e6a6",
       "version_major": 2,
       "version_minor": 0
      },
      "text/plain": [
       "RadioButtons(description='Pizza topping:', options=('pepperoni', 'pineapple', 'anchovies'), value='pepperoni')"
      ]
     },
     "metadata": {},
     "output_type": "display_data"
    }
   ],
   "source": [
    "widgets.RadioButtons(\n",
    "    options=['pepperoni', 'pineapple', 'anchovies'],\n",
    "#     value='pineapple',\n",
    "    description='Pizza topping:',\n",
    "    disabled=False\n",
    ")"
   ]
  },
  {
   "cell_type": "code",
   "execution_count": null,
   "id": "14ad5210",
   "metadata": {},
   "outputs": [],
   "source": []
  },
  {
   "cell_type": "code",
   "execution_count": null,
   "id": "775a3bdf",
   "metadata": {},
   "outputs": [],
   "source": []
  },
  {
   "cell_type": "code",
   "execution_count": null,
   "id": "71e80385",
   "metadata": {},
   "outputs": [],
   "source": []
  },
  {
   "cell_type": "code",
   "execution_count": null,
   "id": "cd191669",
   "metadata": {},
   "outputs": [],
   "source": []
  },
  {
   "cell_type": "code",
   "execution_count": null,
   "id": "ab35bad9",
   "metadata": {},
   "outputs": [],
   "source": []
  },
  {
   "cell_type": "code",
   "execution_count": null,
   "id": "c8bdfc2a",
   "metadata": {},
   "outputs": [],
   "source": [
    "@interact(x=True, y=1.0)\n",
    "def g(x, y):\n",
    "    return (x, y)"
   ]
  },
  {
   "cell_type": "code",
   "execution_count": null,
   "id": "28a287e2",
   "metadata": {},
   "outputs": [],
   "source": []
  },
  {
   "cell_type": "code",
   "execution_count": 18,
   "id": "603d345c",
   "metadata": {},
   "outputs": [
    {
     "data": {
      "application/vnd.jupyter.widget-view+json": {
       "model_id": "1be0383799a346f9acfd84dad4174c94",
       "version_major": 2,
       "version_minor": 0
      },
      "text/plain": [
       "interactive(children=(IntSlider(value=5, description='y', max=10), Output()), _dom_classes=('widget-interact',…"
      ]
     },
     "metadata": {},
     "output_type": "display_data"
    }
   ],
   "source": [
    "# add another slide bar to this function with the interact decorator.    \n",
    "@interact(y=(0, 10))\n",
    "def square_number(y):\n",
    "    print(\"The square of %d is %d.\" % (y, y**2))"
   ]
  },
  {
   "cell_type": "code",
   "execution_count": null,
   "id": "c157c641",
   "metadata": {},
   "outputs": [],
   "source": []
  },
  {
   "cell_type": "code",
   "execution_count": null,
   "id": "2932facf",
   "metadata": {},
   "outputs": [],
   "source": []
  },
  {
   "cell_type": "code",
   "execution_count": null,
   "id": "1cbfe82a",
   "metadata": {},
   "outputs": [],
   "source": []
  },
  {
   "cell_type": "code",
   "execution_count": null,
   "id": "bd98338c",
   "metadata": {},
   "outputs": [],
   "source": []
  },
  {
   "cell_type": "code",
   "execution_count": null,
   "id": "fc1cb6ae",
   "metadata": {},
   "outputs": [],
   "source": []
  },
  {
   "cell_type": "code",
   "execution_count": null,
   "id": "45ab7d8d",
   "metadata": {},
   "outputs": [],
   "source": []
  },
  {
   "cell_type": "markdown",
   "id": "a508dc6c",
   "metadata": {},
   "source": [
    "--------------------"
   ]
  },
  {
   "cell_type": "code",
   "execution_count": 5,
   "id": "e976587b",
   "metadata": {},
   "outputs": [],
   "source": [
    "def f(x):\n",
    "    print(x)\n",
    "    return x"
   ]
  },
  {
   "cell_type": "code",
   "execution_count": 6,
   "id": "a0c33370",
   "metadata": {},
   "outputs": [
    {
     "data": {
      "application/vnd.jupyter.widget-view+json": {
       "model_id": "7c4a2a2baa7044e2aef5dfa58ed1cc5d",
       "version_major": 2,
       "version_minor": 0
      },
      "text/plain": [
       "interactive(children=(IntSlider(value=10, description='x', max=30, min=-10), Output()), _dom_classes=('widget-…"
      ]
     },
     "metadata": {},
     "output_type": "display_data"
    },
    {
     "data": {
      "text/plain": [
       "<function __main__.f(x)>"
      ]
     },
     "execution_count": 6,
     "metadata": {},
     "output_type": "execute_result"
    }
   ],
   "source": [
    "interact(f, x=10)"
   ]
  },
  {
   "cell_type": "markdown",
   "id": "3e20c140",
   "metadata": {},
   "source": [
    "### Meeting Angelo Tuesday"
   ]
  },
  {
   "cell_type": "code",
   "execution_count": null,
   "id": "d070c319",
   "metadata": {},
   "outputs": [],
   "source": [
    "# add slide bar to the function with the interact decorator.    \n",
    "@interact(faithfulness=(0, 10))\n",
    "def human_evaluation(faithfulness):\n",
    "    \n",
    "    # randomly select a sample according to weighted distribution\n",
    "    generated_sample_index = np.random.choice(list(generations_weighted.keys()), \n",
    "                                              size=1,\n",
    "                                              replace=True,\n",
    "                                              p=list(generations_weighted.values()))\n",
    "    \n",
    "    # '3' not array(['3']\n",
    "    generated_sample_index = generated_sample_index[0]\n",
    "    \n",
    "    # update the weight of selected sample (decrease by half)\n",
    "    generations_weighted[generated_sample_index] = generations_weighted[generated_sample_index] / 2\n",
    "    \n",
    "    # evenly increase all other probabilities\n",
    "    increase_num = (1 - sum(list(generations_weighted.values()))) / (len(generations)-1)\n",
    "    \n",
    "    for another_index in list(generations_weighted.keys()):\n",
    "        if another_index != generated_sample_index:\n",
    "            generations_weighted[another_index] += increase_num\n",
    "    \n",
    "    # display input-target-generation\n",
    "    print(\"~~~~~~~~ Input ~~~~~~~\")\n",
    "    print(inputs[generated_sample_index])\n",
    "    \n",
    "    print(\"\\n~~~~~~~~ Generation ~~~~~~~\")\n",
    "    print(generations[generated_sample_index])\n",
    "    \n",
    "    print(\"\\n~~~~~~~~ Target ~~~~~~~\")\n",
    "    print(targets[generated_sample_index])\n",
    "    \n",
    "    \n",
    "    # used selects a scale\n",
    "    \n",
    "    # save results\n",
    "    results_faithfulness[generated_sample_index].append(faithfulness)\n",
    "    \n",
    "    # print(\"\\n\\nThe square of %d is %d.\" % (faithfulness, faithfulness**2))"
   ]
  },
  {
   "cell_type": "code",
   "execution_count": null,
   "id": "f4319ec1",
   "metadata": {},
   "outputs": [],
   "source": [
    "generations_weighted"
   ]
  },
  {
   "cell_type": "code",
   "execution_count": null,
   "id": "363dd990",
   "metadata": {},
   "outputs": [],
   "source": [
    "results_faithfulness"
   ]
  },
  {
   "cell_type": "code",
   "execution_count": null,
   "id": "ba9bdf81",
   "metadata": {},
   "outputs": [],
   "source": []
  },
  {
   "cell_type": "code",
   "execution_count": null,
   "id": "81145755",
   "metadata": {},
   "outputs": [],
   "source": []
  },
  {
   "cell_type": "code",
   "execution_count": null,
   "id": "f2213471",
   "metadata": {},
   "outputs": [],
   "source": [
    "### Keep Rolling\n",
    "\n",
    "#############################################\n",
    "\n",
    "button = widgets.Button(description=\"Update Sample\")\n",
    "\n",
    "dropdown_general = widgets.Dropdown(\n",
    "                options=['Not selected', '1 One 1', '2 Two 2', '3 Three 3', '4 Four 4', '5 Five 5', \n",
    "                         '6 Six 6', '7 Seven 7', '8 Eight 8', '9 Nine 9', '10 Ten 10'],\n",
    "                value='Not selected',\n",
    "                description='To which extent is this text *adequate*? ',\n",
    "                style=style,\n",
    ")\n",
    "\n",
    "dropdown_faithfulness = widgets.Dropdown(\n",
    "                options=['Not selected', '1 One 1', '2 Two 2', '3 Three 3', '4 Four 4', '5 Five 5', \n",
    "                         '6 Six 6', '7 Seven 7', '8 Eight 8', '9 Nine 9', '10 Ten 10'],\n",
    "                value='Not selected',\n",
    "                description='How severe are *hallucinations*? ',\n",
    "                style=style,\n",
    ")\n",
    "\n",
    "\n",
    "def on_button_clicked(b):\n",
    "    \n",
    "    update_text()\n",
    "    \n",
    "    # TO-DO - RULE - make sure all dropdowns selected!!!\n",
    "    \n",
    "    print(\"Button clicked.\")\n",
    "    \n",
    "\n",
    "def update_text():\n",
    "    print('Random Num 1: ', np.random.randint(1,100))\n",
    "    print('Random Num 2: ', np.random.randint(100,10000))\n",
    "    \n",
    "\n",
    "def on_change_dropdown_general(change):\n",
    "    \n",
    "    if change['type'] == 'change' and change['name'] == 'value':\n",
    "        # print(\"changed to %s\" % change['new'])\n",
    "        adequacy_resuls.append(change['new'])\n",
    "\n",
    "\n",
    "def on_change_dropdown_faithfulness(change):\n",
    "    \n",
    "    if change['type'] == 'change' and change['name'] == 'value':\n",
    "        faithfulness_results.append(change['new'])\n",
    "\n",
    "        \n",
    "        \n",
    "dropdown_general.observe(on_change_dropdown_general)\n",
    "dropdown_faithfulness.observe(on_change_dropdown_faithfulness)\n",
    "\n",
    "\n",
    "print('Random Num 1: ', np.random.randint(1,100))\n",
    "print('Random Num 2: ', np.random.randint(100,10000))\n",
    "\n",
    "\n",
    "display(dropdown_general)\n",
    "display(dropdown_faithfulness)\n",
    "\n",
    "\n",
    "\n",
    "\n",
    "display(button)\n",
    "\n",
    "\n",
    "button.on_click(on_button_clicked)\n",
    "\n",
    "##############################################"
   ]
  },
  {
   "cell_type": "code",
   "execution_count": null,
   "id": "088cc184",
   "metadata": {},
   "outputs": [],
   "source": []
  },
  {
   "cell_type": "markdown",
   "id": "79d01b5c",
   "metadata": {},
   "source": [
    "Google Colab Work"
   ]
  },
  {
   "cell_type": "code",
   "execution_count": null,
   "id": "251b39d9",
   "metadata": {},
   "outputs": [],
   "source": [
    "def get_random_sample_id(weights_samples):\n",
    "\n",
    "  section_ids = list(weights_samples.keys())\n",
    "  weights_ids = [weights_samples[id] for id in section_ids]\n",
    "\n",
    "  # no samples to choose - GAME over\n",
    "  if sum(weights_ids) == 0: \n",
    "    print(\"\\n\\tYou are the BEST, You DID it! Congratulations and many thanks!\")\n",
    "    return None\n",
    "\n",
    "  # prob must sum up to 1\n",
    "  assert round(sum(weights_ids), 10) == 1, \"Probs do NOT sum up to 1\"\n",
    "\n",
    "  # randomly pick up a sample id\n",
    "  generated_sample_index = np.random.choice(section_ids, \n",
    "                                            size=1,\n",
    "                                            replace=True,\n",
    "                                            p=weights_ids)\n",
    "\n",
    "  # '3' not array(['3']\n",
    "  generated_sample_index = generated_sample_index[0]\n",
    "\n",
    "  # set prob to 0 of the selected section_id\n",
    "  weights_samples[generated_sample_index] = 0\n",
    "\n",
    "  # update other probs (not zero!) so that sum(prob) = 1\n",
    "  # do not update those prob that are already 0\n",
    "\n",
    "  # count not 0 values - we do not want to update those with already 0\n",
    "  non_zero_ids = len([id for id in weights_samples if weights_samples[id] != 0]) \n",
    "\n",
    "  # if the last element non_zero_ids = 0\n",
    "  if non_zero_ids != 0: increase_num = (1 - sum(list(weights_samples.values()))) / non_zero_ids\n",
    "  else: increase_num = 0\n",
    "\n",
    "  # update other probs\n",
    "  for sample_id in list(weights_samples.keys()):\n",
    "      # do not update already ids with 0 and current id\n",
    "      if sample_id != generated_sample_index and weights_samples[sample_id] != 0:\n",
    "          weights_samples[sample_id] += increase_num\n",
    "\n",
    "  # print(generated_sample_index, \" = \", non_zero_ids)\n",
    "  return generated_sample_index"
   ]
  },
  {
   "cell_type": "code",
   "execution_count": null,
   "id": "b2e881ba",
   "metadata": {},
   "outputs": [],
   "source": [
    "#### Check the sampling function\n",
    "\n",
    "check_ids = []\n",
    "\n",
    "for i in range(len(weights_samples)):\n",
    "\n",
    "  ans = get_random_sample_id(weights_samples)\n",
    "  check_ids.append(ans)\n",
    "\n",
    "# check\n",
    "assert len(check_ids) == len(weights_samples)"
   ]
  },
  {
   "cell_type": "code",
   "execution_count": null,
   "id": "2ff243ff",
   "metadata": {},
   "outputs": [],
   "source": []
  },
  {
   "cell_type": "code",
   "execution_count": null,
   "id": "40ae51ee",
   "metadata": {},
   "outputs": [],
   "source": [
    "# from start - weight for each sample are uniformly distributed\n",
    "# weights_samples = {str(index):1/len(dataset_section1) for index in range(1,len(dataset_section1)+1)}"
   ]
  },
  {
   "cell_type": "markdown",
   "id": "01f45c62",
   "metadata": {},
   "source": [
    "#### Build with :\n",
    "\n",
    "https://github.com/jupyter-widgets/ipywidgets/tree/e0d41f6f02324596a282bc9e4650fd7ba63c0004/docs/source/examples   \n",
    "https://github.com/jupyter-widgets/ipywidgets/issues/2103      \n",
    "https://stackoverflow.com/questions/34020789/ipywidgets-dropdown-widgets-what-is-the-onchange-event    \n",
    "https://ipywidgets.readthedocs.io/en/stable/examples/Widget%20Events.html    \n",
    "https://ipywidgets.readthedocs.io/en/stable/examples/Widget%20List.html#SelectMultiple     \n",
    "https://ipywidgets.readthedocs.io/en/stable/examples/Using%20Interact.html     \n",
    "\n"
   ]
  },
  {
   "cell_type": "code",
   "execution_count": null,
   "id": "7531a464",
   "metadata": {},
   "outputs": [],
   "source": []
  }
 ],
 "metadata": {
  "kernelspec": {
   "display_name": "Python 3",
   "language": "python",
   "name": "python3"
  },
  "language_info": {
   "codemirror_mode": {
    "name": "ipython",
    "version": 3
   },
   "file_extension": ".py",
   "mimetype": "text/x-python",
   "name": "python",
   "nbconvert_exporter": "python",
   "pygments_lexer": "ipython3",
   "version": "3.7.4"
  }
 },
 "nbformat": 4,
 "nbformat_minor": 5
}
